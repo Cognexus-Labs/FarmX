{
 "cells": [
  {
   "cell_type": "code",
   "execution_count": 1,
   "id": "ff03eb46",
   "metadata": {},
   "outputs": [],
   "source": [
    "import pandas as pd\n",
    "import numpy as np\n",
    "import matplotlib.pyplot as plt\n",
    "import seaborn as sns\n",
    "import pickle"
   ]
  },
  {
   "cell_type": "code",
   "execution_count": 2,
   "id": "41468af3",
   "metadata": {},
   "outputs": [
    {
     "data": {
      "text/html": [
       "<div>\n",
       "<style scoped>\n",
       "    .dataframe tbody tr th:only-of-type {\n",
       "        vertical-align: middle;\n",
       "    }\n",
       "\n",
       "    .dataframe tbody tr th {\n",
       "        vertical-align: top;\n",
       "    }\n",
       "\n",
       "    .dataframe thead th {\n",
       "        text-align: right;\n",
       "    }\n",
       "</style>\n",
       "<table border=\"1\" class=\"dataframe\">\n",
       "  <thead>\n",
       "    <tr style=\"text-align: right;\">\n",
       "      <th></th>\n",
       "      <th>N</th>\n",
       "      <th>P</th>\n",
       "      <th>K</th>\n",
       "      <th>temperature</th>\n",
       "      <th>humidity</th>\n",
       "      <th>ph</th>\n",
       "      <th>rainfall</th>\n",
       "      <th>label</th>\n",
       "    </tr>\n",
       "  </thead>\n",
       "  <tbody>\n",
       "    <tr>\n",
       "      <th>0</th>\n",
       "      <td>90</td>\n",
       "      <td>42</td>\n",
       "      <td>43</td>\n",
       "      <td>20.879744</td>\n",
       "      <td>82.002744</td>\n",
       "      <td>6.502985</td>\n",
       "      <td>202.935536</td>\n",
       "      <td>rice</td>\n",
       "    </tr>\n",
       "    <tr>\n",
       "      <th>1</th>\n",
       "      <td>85</td>\n",
       "      <td>58</td>\n",
       "      <td>41</td>\n",
       "      <td>21.770462</td>\n",
       "      <td>80.319644</td>\n",
       "      <td>7.038096</td>\n",
       "      <td>226.655537</td>\n",
       "      <td>rice</td>\n",
       "    </tr>\n",
       "    <tr>\n",
       "      <th>2</th>\n",
       "      <td>60</td>\n",
       "      <td>55</td>\n",
       "      <td>44</td>\n",
       "      <td>23.004459</td>\n",
       "      <td>82.320763</td>\n",
       "      <td>7.840207</td>\n",
       "      <td>263.964248</td>\n",
       "      <td>rice</td>\n",
       "    </tr>\n",
       "    <tr>\n",
       "      <th>3</th>\n",
       "      <td>74</td>\n",
       "      <td>35</td>\n",
       "      <td>40</td>\n",
       "      <td>26.491096</td>\n",
       "      <td>80.158363</td>\n",
       "      <td>6.980401</td>\n",
       "      <td>242.864034</td>\n",
       "      <td>rice</td>\n",
       "    </tr>\n",
       "    <tr>\n",
       "      <th>4</th>\n",
       "      <td>78</td>\n",
       "      <td>42</td>\n",
       "      <td>42</td>\n",
       "      <td>20.130175</td>\n",
       "      <td>81.604873</td>\n",
       "      <td>7.628473</td>\n",
       "      <td>262.717340</td>\n",
       "      <td>rice</td>\n",
       "    </tr>\n",
       "  </tbody>\n",
       "</table>\n",
       "</div>"
      ],
      "text/plain": [
       "    N   P   K  temperature   humidity        ph    rainfall label\n",
       "0  90  42  43    20.879744  82.002744  6.502985  202.935536  rice\n",
       "1  85  58  41    21.770462  80.319644  7.038096  226.655537  rice\n",
       "2  60  55  44    23.004459  82.320763  7.840207  263.964248  rice\n",
       "3  74  35  40    26.491096  80.158363  6.980401  242.864034  rice\n",
       "4  78  42  42    20.130175  81.604873  7.628473  262.717340  rice"
      ]
     },
     "execution_count": 2,
     "metadata": {},
     "output_type": "execute_result"
    }
   ],
   "source": [
    "data = pd.read_csv(\"Crop_recommendation.csv\")\n",
    "data.head()"
   ]
  },
  {
   "cell_type": "code",
   "execution_count": 3,
   "id": "03b4137e",
   "metadata": {},
   "outputs": [
    {
     "name": "stdout",
     "output_type": "stream",
     "text": [
      "The Shape of the Dataset is: (2200, 8)\n"
     ]
    }
   ],
   "source": [
    "print(\"The Shape of the Dataset is: {}\" .format(data.shape))"
   ]
  },
  {
   "cell_type": "code",
   "execution_count": 4,
   "id": "48bf6900",
   "metadata": {},
   "outputs": [
    {
     "name": "stdout",
     "output_type": "stream",
     "text": [
      "<class 'pandas.core.frame.DataFrame'>\n",
      "RangeIndex: 2200 entries, 0 to 2199\n",
      "Data columns (total 8 columns):\n",
      " #   Column       Non-Null Count  Dtype  \n",
      "---  ------       --------------  -----  \n",
      " 0   N            2200 non-null   int64  \n",
      " 1   P            2200 non-null   int64  \n",
      " 2   K            2200 non-null   int64  \n",
      " 3   temperature  2200 non-null   float64\n",
      " 4   humidity     2200 non-null   float64\n",
      " 5   ph           2200 non-null   float64\n",
      " 6   rainfall     2200 non-null   float64\n",
      " 7   label        2200 non-null   object \n",
      "dtypes: float64(4), int64(3), object(1)\n",
      "memory usage: 137.6+ KB\n"
     ]
    }
   ],
   "source": [
    "data.info()"
   ]
  },
  {
   "cell_type": "code",
   "execution_count": 5,
   "id": "123f737c",
   "metadata": {},
   "outputs": [
    {
     "data": {
      "text/html": [
       "<div>\n",
       "<style scoped>\n",
       "    .dataframe tbody tr th:only-of-type {\n",
       "        vertical-align: middle;\n",
       "    }\n",
       "\n",
       "    .dataframe tbody tr th {\n",
       "        vertical-align: top;\n",
       "    }\n",
       "\n",
       "    .dataframe thead th {\n",
       "        text-align: right;\n",
       "    }\n",
       "</style>\n",
       "<table border=\"1\" class=\"dataframe\">\n",
       "  <thead>\n",
       "    <tr style=\"text-align: right;\">\n",
       "      <th></th>\n",
       "      <th>N</th>\n",
       "      <th>P</th>\n",
       "      <th>K</th>\n",
       "      <th>temperature</th>\n",
       "      <th>humidity</th>\n",
       "      <th>ph</th>\n",
       "      <th>rainfall</th>\n",
       "    </tr>\n",
       "  </thead>\n",
       "  <tbody>\n",
       "    <tr>\n",
       "      <th>count</th>\n",
       "      <td>2200.000000</td>\n",
       "      <td>2200.000000</td>\n",
       "      <td>2200.000000</td>\n",
       "      <td>2200.000000</td>\n",
       "      <td>2200.000000</td>\n",
       "      <td>2200.000000</td>\n",
       "      <td>2200.000000</td>\n",
       "    </tr>\n",
       "    <tr>\n",
       "      <th>mean</th>\n",
       "      <td>50.551818</td>\n",
       "      <td>53.362727</td>\n",
       "      <td>48.149091</td>\n",
       "      <td>25.616244</td>\n",
       "      <td>71.481779</td>\n",
       "      <td>6.469480</td>\n",
       "      <td>103.463655</td>\n",
       "    </tr>\n",
       "    <tr>\n",
       "      <th>std</th>\n",
       "      <td>36.917334</td>\n",
       "      <td>32.985883</td>\n",
       "      <td>50.647931</td>\n",
       "      <td>5.063749</td>\n",
       "      <td>22.263812</td>\n",
       "      <td>0.773938</td>\n",
       "      <td>54.958389</td>\n",
       "    </tr>\n",
       "    <tr>\n",
       "      <th>min</th>\n",
       "      <td>0.000000</td>\n",
       "      <td>5.000000</td>\n",
       "      <td>5.000000</td>\n",
       "      <td>8.825675</td>\n",
       "      <td>14.258040</td>\n",
       "      <td>3.504752</td>\n",
       "      <td>20.211267</td>\n",
       "    </tr>\n",
       "    <tr>\n",
       "      <th>25%</th>\n",
       "      <td>21.000000</td>\n",
       "      <td>28.000000</td>\n",
       "      <td>20.000000</td>\n",
       "      <td>22.769375</td>\n",
       "      <td>60.261953</td>\n",
       "      <td>5.971693</td>\n",
       "      <td>64.551686</td>\n",
       "    </tr>\n",
       "    <tr>\n",
       "      <th>50%</th>\n",
       "      <td>37.000000</td>\n",
       "      <td>51.000000</td>\n",
       "      <td>32.000000</td>\n",
       "      <td>25.598693</td>\n",
       "      <td>80.473146</td>\n",
       "      <td>6.425045</td>\n",
       "      <td>94.867624</td>\n",
       "    </tr>\n",
       "    <tr>\n",
       "      <th>75%</th>\n",
       "      <td>84.250000</td>\n",
       "      <td>68.000000</td>\n",
       "      <td>49.000000</td>\n",
       "      <td>28.561654</td>\n",
       "      <td>89.948771</td>\n",
       "      <td>6.923643</td>\n",
       "      <td>124.267508</td>\n",
       "    </tr>\n",
       "    <tr>\n",
       "      <th>max</th>\n",
       "      <td>140.000000</td>\n",
       "      <td>145.000000</td>\n",
       "      <td>205.000000</td>\n",
       "      <td>43.675493</td>\n",
       "      <td>99.981876</td>\n",
       "      <td>9.935091</td>\n",
       "      <td>298.560117</td>\n",
       "    </tr>\n",
       "  </tbody>\n",
       "</table>\n",
       "</div>"
      ],
      "text/plain": [
       "                 N            P            K  temperature     humidity  \\\n",
       "count  2200.000000  2200.000000  2200.000000  2200.000000  2200.000000   \n",
       "mean     50.551818    53.362727    48.149091    25.616244    71.481779   \n",
       "std      36.917334    32.985883    50.647931     5.063749    22.263812   \n",
       "min       0.000000     5.000000     5.000000     8.825675    14.258040   \n",
       "25%      21.000000    28.000000    20.000000    22.769375    60.261953   \n",
       "50%      37.000000    51.000000    32.000000    25.598693    80.473146   \n",
       "75%      84.250000    68.000000    49.000000    28.561654    89.948771   \n",
       "max     140.000000   145.000000   205.000000    43.675493    99.981876   \n",
       "\n",
       "                ph     rainfall  \n",
       "count  2200.000000  2200.000000  \n",
       "mean      6.469480   103.463655  \n",
       "std       0.773938    54.958389  \n",
       "min       3.504752    20.211267  \n",
       "25%       5.971693    64.551686  \n",
       "50%       6.425045    94.867624  \n",
       "75%       6.923643   124.267508  \n",
       "max       9.935091   298.560117  "
      ]
     },
     "execution_count": 5,
     "metadata": {},
     "output_type": "execute_result"
    }
   ],
   "source": [
    "data.describe()"
   ]
  },
  {
   "cell_type": "code",
   "execution_count": 6,
   "id": "3d7df4ad",
   "metadata": {},
   "outputs": [
    {
     "data": {
      "text/plain": [
       "N              0\n",
       "P              0\n",
       "K              0\n",
       "temperature    0\n",
       "humidity       0\n",
       "ph             0\n",
       "rainfall       0\n",
       "label          0\n",
       "dtype: int64"
      ]
     },
     "execution_count": 6,
     "metadata": {},
     "output_type": "execute_result"
    }
   ],
   "source": [
    "data.isnull().sum()"
   ]
  },
  {
   "cell_type": "markdown",
   "id": "124254ac",
   "metadata": {},
   "source": [
    "## Data Viz"
   ]
  },
  {
   "cell_type": "markdown",
   "id": "db486162",
   "metadata": {},
   "source": [
    "Spread of Ph and Temperature in the data."
   ]
  },
  {
   "cell_type": "code",
   "execution_count": 7,
   "id": "6f1505b9",
   "metadata": {},
   "outputs": [
    {
     "name": "stderr",
     "output_type": "stream",
     "text": [
      "C:\\ProgramData\\Anaconda3\\lib\\site-packages\\seaborn\\distributions.py:2619: FutureWarning: `distplot` is a deprecated function and will be removed in a future version. Please adapt your code to use either `displot` (a figure-level function with similar flexibility) or `histplot` (an axes-level function for histograms).\n",
      "  warnings.warn(msg, FutureWarning)\n",
      "C:\\ProgramData\\Anaconda3\\lib\\site-packages\\seaborn\\distributions.py:2619: FutureWarning: `distplot` is a deprecated function and will be removed in a future version. Please adapt your code to use either `displot` (a figure-level function with similar flexibility) or `histplot` (an axes-level function for histograms).\n",
      "  warnings.warn(msg, FutureWarning)\n"
     ]
    },
    {
     "data": {
      "text/plain": [
       "<AxesSubplot:xlabel='ph', ylabel='Density'>"
      ]
     },
     "execution_count": 7,
     "metadata": {},
     "output_type": "execute_result"
    },
    {
     "data": {
      "image/png": "[encoded data removed]",
      "text/plain": [
       "<Figure size 864x360 with 2 Axes>"
      ]
     },
     "metadata": {
      "needs_background": "light"
     },
     "output_type": "display_data"
    }
   ],
   "source": [
    "plt.figure(figsize=(12,5))\n",
    "plt.subplot(1, 2, 1)\n",
    "sns.distplot(data['temperature'],color=\"purple\",bins=15,hist_kws={'alpha':0.2})\n",
    "plt.subplot(1, 2, 2)\n",
    "sns.distplot(data['ph'],color=\"green\",bins=15,hist_kws={'alpha':0.2})"
   ]
  },
  {
   "cell_type": "code",
   "execution_count": 8,
   "id": "bb4f1cda",
   "metadata": {},
   "outputs": [
    {
     "data": {
      "image/png": "[encoded data removed]",
      "text/plain": [
       "<Figure size 1008x648 with 2 Axes>"
      ]
     },
     "metadata": {
      "needs_background": "light"
     },
     "output_type": "display_data"
    }
   ],
   "source": [
    "#Correlation matrix\n",
    "fig, ax = plt.subplots(1, 1, figsize=(14, 9))\n",
    "sns.heatmap(data.corr(), annot=True,cmap='Purples')\n",
    "ax.set(xlabel='features')\n",
    "ax.set(ylabel='features')\n",
    "\n",
    "plt.title('Correlation matrix', fontsize = 15, c='black')\n",
    "plt.show()"
   ]
  },
  {
   "cell_type": "markdown",
   "id": "72457ca7",
   "metadata": {},
   "source": [
    "Potassium (K) and Phosporus (P) have very high correlation."
   ]
  },
  {
   "cell_type": "code",
   "execution_count": 9,
   "id": "24eee540",
   "metadata": {},
   "outputs": [],
   "source": [
    "columns = data.columns[:-1]"
   ]
  },
  {
   "cell_type": "code",
   "execution_count": 10,
   "id": "429013b4",
   "metadata": {},
   "outputs": [
    {
     "data": {
      "image/png": "[encoded data removed]",
      "text/plain": [
       "<Figure size 792x432 with 1 Axes>"
      ]
     },
     "metadata": {
      "needs_background": "light"
     },
     "output_type": "display_data"
    },
    {
     "data": {
      "image/png": "[encoded data removed]",
      "text/plain": [
       "<Figure size 792x432 with 1 Axes>"
      ]
     },
     "metadata": {
      "needs_background": "light"
     },
     "output_type": "display_data"
    },
    {
     "data": {
      "image/png": "[encoded data removed]",
      "text/plain": [
       "<Figure size 792x432 with 1 Axes>"
      ]
     },
     "metadata": {
      "needs_background": "light"
     },
     "output_type": "display_data"
    },
    {
     "data": {
      "image/png": "[encoded data removed]",
      "text/plain": [
       "<Figure size 792x432 with 1 Axes>"
      ]
     },
     "metadata": {
      "needs_background": "light"
     },
     "output_type": "display_data"
    },
    {
     "data": {
      "image/png": "[encoded data removed]",
      "text/plain": [
       "<Figure size 792x432 with 1 Axes>"
      ]
     },
     "metadata": {
      "needs_background": "light"
     },
     "output_type": "display_data"
    },
    {
     "data": {
      "image/png": "[encoded data removed]",
      "text/plain": [
       "<Figure size 792x432 with 1 Axes>"
      ]
     },
     "metadata": {
      "needs_background": "light"
     },
     "output_type": "display_data"
    },
    {
     "data": {
      "image/png": "[encoded data removed]",
      "text/plain": [
       "<Figure size 792x432 with 1 Axes>"
      ]
     },
     "metadata": {
      "needs_background": "light"
     },
     "output_type": "display_data"
    }
   ],
   "source": [
    "for column in columns:\n",
    "    plt.figure(figsize = (11, 6))\n",
    "    sns.barplot(x = 'label', y = column, data = data, palette = 'husl')\n",
    "    plt.xlabel('label', fontsize = 12)\n",
    "    plt.ylabel(column, fontsize = 12)\n",
    "    plt.xticks(rotation=90)\n",
    "    plt.title(f'Crop Type against {column}')\n",
    "    plt.show()"
   ]
  },
  {
   "cell_type": "markdown",
   "id": "3fc4f43f",
   "metadata": {},
   "source": [
    "### Split Data."
   ]
  },
  {
   "cell_type": "code",
   "execution_count": 11,
   "id": "e6fe4a5e",
   "metadata": {},
   "outputs": [],
   "source": [
    "from sklearn.model_selection import train_test_split"
   ]
  },
  {
   "cell_type": "code",
   "execution_count": 12,
   "id": "55685f34",
   "metadata": {},
   "outputs": [],
   "source": [
    "train, test = train_test_split(data, test_size = 0.3, random_state= 2022)"
   ]
  },
  {
   "cell_type": "code",
   "execution_count": 13,
   "id": "854bf162",
   "metadata": {},
   "outputs": [],
   "source": [
    "train = train.reset_index(drop=True)\n",
    "test = test.reset_index(drop=True)"
   ]
  },
  {
   "cell_type": "code",
   "execution_count": 14,
   "id": "57cdd7f6",
   "metadata": {},
   "outputs": [],
   "source": [
    "truth = train.label"
   ]
  },
  {
   "cell_type": "code",
   "execution_count": 15,
   "id": "4a161a87",
   "metadata": {
    "scrolled": true
   },
   "outputs": [],
   "source": [
    "X = train.iloc[:,:-1]\n",
    "y = train.label"
   ]
  },
  {
   "cell_type": "code",
   "execution_count": 16,
   "id": "b9865dda",
   "metadata": {},
   "outputs": [],
   "source": [
    "from catboost import CatBoostClassifier"
   ]
  },
  {
   "cell_type": "code",
   "execution_count": 17,
   "id": "3410dd98",
   "metadata": {},
   "outputs": [],
   "source": [
    "from sklearn.metrics import accuracy_score, recall_score, precision_score, f1_score"
   ]
  },
  {
   "cell_type": "code",
   "execution_count": 18,
   "id": "a43f1b69",
   "metadata": {},
   "outputs": [],
   "source": [
    "X_train, X_test, y_train, y_test = train_test_split(X, y, test_size=0.2, random_state=42)"
   ]
  },
  {
   "cell_type": "code",
   "execution_count": 19,
   "id": "7c64fa2a",
   "metadata": {},
   "outputs": [
    {
     "name": "stdout",
     "output_type": "stream",
     "text": [
      "Learning rate set to 0.143653\n",
      "0:\tlearn: 2.3693695\ttotal: 320ms\tremaining: 2m 39s\n",
      "100:\tlearn: 0.0261796\ttotal: 18.1s\tremaining: 1m 11s\n",
      "200:\tlearn: 0.0114890\ttotal: 33s\tremaining: 49.1s\n",
      "300:\tlearn: 0.0072496\ttotal: 47.9s\tremaining: 31.6s\n",
      "400:\tlearn: 0.0052515\ttotal: 1m 3s\tremaining: 15.7s\n",
      "499:\tlearn: 0.0041308\ttotal: 1m 25s\tremaining: 0us\n"
     ]
    },
    {
     "data": {
      "text/plain": [
       "<catboost.core.CatBoostClassifier at 0x25fd877f370>"
      ]
     },
     "execution_count": 19,
     "metadata": {},
     "output_type": "execute_result"
    }
   ],
   "source": [
    "model = CatBoostClassifier(n_estimators=500,max_depth=8\n",
    "                          ,random_state = 2022, verbose=100)\n",
    "model.fit(X_train,y_train)"
   ]
  },
  {
   "cell_type": "code",
   "execution_count": 20,
   "id": "049c60c6",
   "metadata": {},
   "outputs": [
    {
     "data": {
      "text/plain": [
       "0.9967532467532467"
      ]
     },
     "execution_count": 20,
     "metadata": {},
     "output_type": "execute_result"
    }
   ],
   "source": [
    "pred_val = model.predict(X_test)\n",
    "accuracy_score(pred_val, y_test)"
   ]
  },
  {
   "cell_type": "markdown",
   "id": "0bed144a",
   "metadata": {},
   "source": [
    "### Train for Production"
   ]
  },
  {
   "cell_type": "code",
   "execution_count": 21,
   "id": "43170f00",
   "metadata": {},
   "outputs": [
    {
     "name": "stdout",
     "output_type": "stream",
     "text": [
      "--- 83.82403349876404 seconds ---\n"
     ]
    }
   ],
   "source": [
    "import time\n",
    "start_time = time.time()\n",
    "\n",
    "model = CatBoostClassifier(n_estimators=500,max_depth=8\n",
    "                          ,random_state = 2022, verbose=False)\n",
    "model.fit(X, y)\n",
    "\n",
    "print(\"--- %s seconds ---\" % (time.time() - start_time))"
   ]
  },
  {
   "cell_type": "code",
   "execution_count": 22,
   "id": "62d8f69b",
   "metadata": {},
   "outputs": [
    {
     "data": {
      "text/plain": [
       "array([['chickpea'],\n",
       "       ['lentil'],\n",
       "       ['mungbean'],\n",
       "       ['chickpea'],\n",
       "       ['mungbean'],\n",
       "       ['coffee'],\n",
       "       ['pigeonpeas'],\n",
       "       ['orange'],\n",
       "       ['chickpea'],\n",
       "       ['coffee'],\n",
       "       ['jute'],\n",
       "       ['banana'],\n",
       "       ['orange'],\n",
       "       ['muskmelon'],\n",
       "       ['pomegranate'],\n",
       "       ['papaya'],\n",
       "       ['mothbeans'],\n",
       "       ['watermelon'],\n",
       "       ['mothbeans'],\n",
       "       ['orange'],\n",
       "       ['maize'],\n",
       "       ['muskmelon'],\n",
       "       ['rice'],\n",
       "       ['rice'],\n",
       "       ['mungbean'],\n",
       "       ['lentil'],\n",
       "       ['coffee'],\n",
       "       ['jute'],\n",
       "       ['rice'],\n",
       "       ['lentil'],\n",
       "       ['rice'],\n",
       "       ['kidneybeans'],\n",
       "       ['coconut'],\n",
       "       ['papaya'],\n",
       "       ['banana'],\n",
       "       ['mango'],\n",
       "       ['blackgram'],\n",
       "       ['orange'],\n",
       "       ['cotton'],\n",
       "       ['maize'],\n",
       "       ['watermelon'],\n",
       "       ['mothbeans'],\n",
       "       ['mungbean'],\n",
       "       ['mango'],\n",
       "       ['mothbeans'],\n",
       "       ['blackgram'],\n",
       "       ['jute'],\n",
       "       ['orange'],\n",
       "       ['mango'],\n",
       "       ['pigeonpeas'],\n",
       "       ['pomegranate'],\n",
       "       ['mothbeans'],\n",
       "       ['grapes'],\n",
       "       ['cotton'],\n",
       "       ['jute'],\n",
       "       ['banana'],\n",
       "       ['watermelon'],\n",
       "       ['coconut'],\n",
       "       ['cotton'],\n",
       "       ['kidneybeans'],\n",
       "       ['mungbean'],\n",
       "       ['mungbean'],\n",
       "       ['orange'],\n",
       "       ['blackgram'],\n",
       "       ['blackgram'],\n",
       "       ['papaya'],\n",
       "       ['jute'],\n",
       "       ['kidneybeans'],\n",
       "       ['mungbean'],\n",
       "       ['pigeonpeas'],\n",
       "       ['pigeonpeas'],\n",
       "       ['coconut'],\n",
       "       ['grapes'],\n",
       "       ['jute'],\n",
       "       ['apple'],\n",
       "       ['kidneybeans'],\n",
       "       ['rice'],\n",
       "       ['chickpea'],\n",
       "       ['mungbean'],\n",
       "       ['mungbean'],\n",
       "       ['banana'],\n",
       "       ['muskmelon'],\n",
       "       ['coconut'],\n",
       "       ['coffee'],\n",
       "       ['watermelon'],\n",
       "       ['orange'],\n",
       "       ['muskmelon'],\n",
       "       ['lentil'],\n",
       "       ['mungbean'],\n",
       "       ['coffee'],\n",
       "       ['lentil'],\n",
       "       ['coconut'],\n",
       "       ['muskmelon'],\n",
       "       ['apple'],\n",
       "       ['apple'],\n",
       "       ['watermelon'],\n",
       "       ['coffee'],\n",
       "       ['watermelon'],\n",
       "       ['coconut'],\n",
       "       ['grapes'],\n",
       "       ['pomegranate'],\n",
       "       ['orange'],\n",
       "       ['muskmelon'],\n",
       "       ['papaya'],\n",
       "       ['cotton'],\n",
       "       ['watermelon'],\n",
       "       ['watermelon'],\n",
       "       ['jute'],\n",
       "       ['orange'],\n",
       "       ['cotton'],\n",
       "       ['chickpea'],\n",
       "       ['banana'],\n",
       "       ['maize'],\n",
       "       ['kidneybeans'],\n",
       "       ['muskmelon'],\n",
       "       ['mungbean'],\n",
       "       ['apple'],\n",
       "       ['coconut'],\n",
       "       ['rice'],\n",
       "       ['grapes'],\n",
       "       ['mothbeans'],\n",
       "       ['cotton'],\n",
       "       ['muskmelon'],\n",
       "       ['kidneybeans'],\n",
       "       ['grapes'],\n",
       "       ['banana'],\n",
       "       ['banana'],\n",
       "       ['cotton'],\n",
       "       ['rice'],\n",
       "       ['mango'],\n",
       "       ['maize'],\n",
       "       ['cotton'],\n",
       "       ['coffee'],\n",
       "       ['watermelon'],\n",
       "       ['apple'],\n",
       "       ['mango'],\n",
       "       ['pigeonpeas'],\n",
       "       ['mungbean'],\n",
       "       ['pomegranate'],\n",
       "       ['kidneybeans'],\n",
       "       ['apple'],\n",
       "       ['coffee'],\n",
       "       ['pigeonpeas'],\n",
       "       ['rice'],\n",
       "       ['mothbeans'],\n",
       "       ['coffee'],\n",
       "       ['mungbean'],\n",
       "       ['orange'],\n",
       "       ['cotton'],\n",
       "       ['cotton'],\n",
       "       ['pigeonpeas'],\n",
       "       ['coffee'],\n",
       "       ['cotton'],\n",
       "       ['watermelon'],\n",
       "       ['orange'],\n",
       "       ['chickpea'],\n",
       "       ['mothbeans'],\n",
       "       ['muskmelon'],\n",
       "       ['rice'],\n",
       "       ['watermelon'],\n",
       "       ['banana'],\n",
       "       ['orange'],\n",
       "       ['watermelon'],\n",
       "       ['rice'],\n",
       "       ['maize'],\n",
       "       ['lentil'],\n",
       "       ['mungbean'],\n",
       "       ['papaya'],\n",
       "       ['mango'],\n",
       "       ['mungbean'],\n",
       "       ['watermelon'],\n",
       "       ['coconut'],\n",
       "       ['apple'],\n",
       "       ['jute'],\n",
       "       ['apple'],\n",
       "       ['apple'],\n",
       "       ['jute'],\n",
       "       ['papaya'],\n",
       "       ['coconut'],\n",
       "       ['chickpea'],\n",
       "       ['jute'],\n",
       "       ['pigeonpeas'],\n",
       "       ['grapes'],\n",
       "       ['orange'],\n",
       "       ['pigeonpeas'],\n",
       "       ['grapes'],\n",
       "       ['maize'],\n",
       "       ['mango'],\n",
       "       ['pomegranate'],\n",
       "       ['watermelon'],\n",
       "       ['pomegranate'],\n",
       "       ['mothbeans'],\n",
       "       ['grapes'],\n",
       "       ['jute'],\n",
       "       ['jute'],\n",
       "       ['watermelon'],\n",
       "       ['mothbeans'],\n",
       "       ['kidneybeans'],\n",
       "       ['coconut'],\n",
       "       ['kidneybeans'],\n",
       "       ['coconut'],\n",
       "       ['banana'],\n",
       "       ['cotton'],\n",
       "       ['maize'],\n",
       "       ['apple'],\n",
       "       ['grapes'],\n",
       "       ['muskmelon'],\n",
       "       ['rice'],\n",
       "       ['lentil'],\n",
       "       ['blackgram'],\n",
       "       ['apple'],\n",
       "       ['mothbeans'],\n",
       "       ['kidneybeans'],\n",
       "       ['maize'],\n",
       "       ['lentil'],\n",
       "       ['pigeonpeas'],\n",
       "       ['coffee'],\n",
       "       ['apple'],\n",
       "       ['muskmelon'],\n",
       "       ['grapes'],\n",
       "       ['chickpea'],\n",
       "       ['pomegranate'],\n",
       "       ['pomegranate'],\n",
       "       ['mango'],\n",
       "       ['pomegranate'],\n",
       "       ['watermelon'],\n",
       "       ['chickpea'],\n",
       "       ['blackgram'],\n",
       "       ['coconut'],\n",
       "       ['lentil'],\n",
       "       ['papaya'],\n",
       "       ['rice'],\n",
       "       ['mungbean'],\n",
       "       ['coconut'],\n",
       "       ['cotton'],\n",
       "       ['lentil'],\n",
       "       ['grapes'],\n",
       "       ['cotton'],\n",
       "       ['apple'],\n",
       "       ['coffee'],\n",
       "       ['muskmelon'],\n",
       "       ['rice'],\n",
       "       ['mungbean'],\n",
       "       ['jute'],\n",
       "       ['papaya'],\n",
       "       ['apple'],\n",
       "       ['rice'],\n",
       "       ['chickpea'],\n",
       "       ['orange'],\n",
       "       ['banana'],\n",
       "       ['lentil'],\n",
       "       ['coconut'],\n",
       "       ['jute'],\n",
       "       ['blackgram'],\n",
       "       ['mango'],\n",
       "       ['grapes'],\n",
       "       ['maize'],\n",
       "       ['papaya'],\n",
       "       ['papaya'],\n",
       "       ['jute'],\n",
       "       ['lentil'],\n",
       "       ['orange'],\n",
       "       ['grapes'],\n",
       "       ['maize'],\n",
       "       ['chickpea'],\n",
       "       ['mango'],\n",
       "       ['lentil'],\n",
       "       ['kidneybeans'],\n",
       "       ['rice'],\n",
       "       ['papaya'],\n",
       "       ['pomegranate'],\n",
       "       ['banana'],\n",
       "       ['papaya'],\n",
       "       ['lentil'],\n",
       "       ['maize'],\n",
       "       ['pomegranate'],\n",
       "       ['orange'],\n",
       "       ['banana'],\n",
       "       ['maize'],\n",
       "       ['orange'],\n",
       "       ['jute'],\n",
       "       ['apple'],\n",
       "       ['papaya'],\n",
       "       ['chickpea'],\n",
       "       ['papaya'],\n",
       "       ['banana'],\n",
       "       ['kidneybeans'],\n",
       "       ['mothbeans'],\n",
       "       ['blackgram'],\n",
       "       ['rice'],\n",
       "       ['cotton'],\n",
       "       ['pomegranate'],\n",
       "       ['coffee'],\n",
       "       ['watermelon'],\n",
       "       ['pomegranate'],\n",
       "       ['watermelon'],\n",
       "       ['muskmelon'],\n",
       "       ['mungbean'],\n",
       "       ['mango'],\n",
       "       ['blackgram'],\n",
       "       ['chickpea'],\n",
       "       ['apple'],\n",
       "       ['maize'],\n",
       "       ['grapes'],\n",
       "       ['mothbeans'],\n",
       "       ['mothbeans'],\n",
       "       ['pomegranate'],\n",
       "       ['chickpea'],\n",
       "       ['coffee'],\n",
       "       ['pigeonpeas'],\n",
       "       ['pigeonpeas'],\n",
       "       ['coconut'],\n",
       "       ['maize'],\n",
       "       ['mungbean'],\n",
       "       ['grapes'],\n",
       "       ['mothbeans'],\n",
       "       ['mungbean'],\n",
       "       ['chickpea'],\n",
       "       ['maize'],\n",
       "       ['cotton'],\n",
       "       ['coffee'],\n",
       "       ['mungbean'],\n",
       "       ['apple'],\n",
       "       ['coffee'],\n",
       "       ['coconut'],\n",
       "       ['pigeonpeas'],\n",
       "       ['jute'],\n",
       "       ['kidneybeans'],\n",
       "       ['lentil'],\n",
       "       ['lentil'],\n",
       "       ['jute'],\n",
       "       ['coffee'],\n",
       "       ['mothbeans'],\n",
       "       ['mango'],\n",
       "       ['coffee'],\n",
       "       ['pomegranate'],\n",
       "       ['coconut'],\n",
       "       ['rice'],\n",
       "       ['mungbean'],\n",
       "       ['rice'],\n",
       "       ['mungbean'],\n",
       "       ['cotton'],\n",
       "       ['rice'],\n",
       "       ['blackgram'],\n",
       "       ['coffee'],\n",
       "       ['rice'],\n",
       "       ['banana'],\n",
       "       ['chickpea'],\n",
       "       ['pigeonpeas'],\n",
       "       ['chickpea'],\n",
       "       ['pigeonpeas'],\n",
       "       ['blackgram'],\n",
       "       ['grapes'],\n",
       "       ['watermelon'],\n",
       "       ['lentil'],\n",
       "       ['blackgram'],\n",
       "       ['maize'],\n",
       "       ['jute'],\n",
       "       ['mungbean'],\n",
       "       ['mothbeans'],\n",
       "       ['grapes'],\n",
       "       ['jute'],\n",
       "       ['kidneybeans'],\n",
       "       ['lentil'],\n",
       "       ['orange'],\n",
       "       ['coffee'],\n",
       "       ['pomegranate'],\n",
       "       ['muskmelon'],\n",
       "       ['coffee'],\n",
       "       ['coffee'],\n",
       "       ['mungbean'],\n",
       "       ['banana'],\n",
       "       ['mothbeans'],\n",
       "       ['mango'],\n",
       "       ['mungbean'],\n",
       "       ['mothbeans'],\n",
       "       ['banana'],\n",
       "       ['coconut'],\n",
       "       ['papaya'],\n",
       "       ['pomegranate'],\n",
       "       ['mothbeans'],\n",
       "       ['maize'],\n",
       "       ['cotton'],\n",
       "       ['coconut'],\n",
       "       ['blackgram'],\n",
       "       ['watermelon'],\n",
       "       ['cotton'],\n",
       "       ['chickpea'],\n",
       "       ['watermelon'],\n",
       "       ['mothbeans'],\n",
       "       ['mango'],\n",
       "       ['orange'],\n",
       "       ['rice'],\n",
       "       ['mango'],\n",
       "       ['orange'],\n",
       "       ['kidneybeans'],\n",
       "       ['mango'],\n",
       "       ['maize'],\n",
       "       ['cotton'],\n",
       "       ['kidneybeans'],\n",
       "       ['chickpea'],\n",
       "       ['jute'],\n",
       "       ['mothbeans'],\n",
       "       ['maize'],\n",
       "       ['banana'],\n",
       "       ['orange'],\n",
       "       ['papaya'],\n",
       "       ['rice'],\n",
       "       ['apple'],\n",
       "       ['pigeonpeas'],\n",
       "       ['mothbeans'],\n",
       "       ['chickpea'],\n",
       "       ['mothbeans'],\n",
       "       ['blackgram'],\n",
       "       ['mothbeans'],\n",
       "       ['banana'],\n",
       "       ['kidneybeans'],\n",
       "       ['chickpea'],\n",
       "       ['cotton'],\n",
       "       ['mothbeans'],\n",
       "       ['kidneybeans'],\n",
       "       ['muskmelon'],\n",
       "       ['muskmelon'],\n",
       "       ['mothbeans'],\n",
       "       ['jute'],\n",
       "       ['chickpea'],\n",
       "       ['kidneybeans'],\n",
       "       ['watermelon'],\n",
       "       ['muskmelon'],\n",
       "       ['blackgram'],\n",
       "       ['coconut'],\n",
       "       ['rice'],\n",
       "       ['chickpea'],\n",
       "       ['mothbeans'],\n",
       "       ['orange'],\n",
       "       ['maize'],\n",
       "       ['apple'],\n",
       "       ['jute'],\n",
       "       ['muskmelon'],\n",
       "       ['mothbeans'],\n",
       "       ['blackgram'],\n",
       "       ['mungbean'],\n",
       "       ['mango'],\n",
       "       ['chickpea'],\n",
       "       ['apple'],\n",
       "       ['kidneybeans'],\n",
       "       ['coffee'],\n",
       "       ['chickpea'],\n",
       "       ['papaya'],\n",
       "       ['mango'],\n",
       "       ['chickpea'],\n",
       "       ['rice'],\n",
       "       ['muskmelon'],\n",
       "       ['maize'],\n",
       "       ['pomegranate'],\n",
       "       ['coconut'],\n",
       "       ['jute'],\n",
       "       ['orange'],\n",
       "       ['banana'],\n",
       "       ['pigeonpeas'],\n",
       "       ['kidneybeans'],\n",
       "       ['orange'],\n",
       "       ['pomegranate'],\n",
       "       ['chickpea'],\n",
       "       ['coffee'],\n",
       "       ['maize'],\n",
       "       ['banana'],\n",
       "       ['mango'],\n",
       "       ['apple'],\n",
       "       ['grapes'],\n",
       "       ['blackgram'],\n",
       "       ['papaya'],\n",
       "       ['mango'],\n",
       "       ['jute'],\n",
       "       ['mango'],\n",
       "       ['watermelon'],\n",
       "       ['maize'],\n",
       "       ['jute'],\n",
       "       ['blackgram'],\n",
       "       ['lentil'],\n",
       "       ['coffee'],\n",
       "       ['rice'],\n",
       "       ['jute'],\n",
       "       ['muskmelon'],\n",
       "       ['grapes'],\n",
       "       ['watermelon'],\n",
       "       ['cotton'],\n",
       "       ['rice'],\n",
       "       ['pomegranate'],\n",
       "       ['jute'],\n",
       "       ['muskmelon'],\n",
       "       ['watermelon'],\n",
       "       ['rice'],\n",
       "       ['pigeonpeas'],\n",
       "       ['pomegranate'],\n",
       "       ['watermelon'],\n",
       "       ['kidneybeans'],\n",
       "       ['coconut'],\n",
       "       ['mungbean'],\n",
       "       ['coffee'],\n",
       "       ['rice'],\n",
       "       ['papaya'],\n",
       "       ['maize'],\n",
       "       ['blackgram'],\n",
       "       ['coffee'],\n",
       "       ['watermelon'],\n",
       "       ['pomegranate'],\n",
       "       ['orange'],\n",
       "       ['muskmelon'],\n",
       "       ['grapes'],\n",
       "       ['chickpea'],\n",
       "       ['grapes'],\n",
       "       ['mango'],\n",
       "       ['grapes'],\n",
       "       ['jute'],\n",
       "       ['chickpea'],\n",
       "       ['muskmelon'],\n",
       "       ['apple'],\n",
       "       ['coconut'],\n",
       "       ['mango'],\n",
       "       ['blackgram'],\n",
       "       ['papaya'],\n",
       "       ['maize'],\n",
       "       ['mungbean'],\n",
       "       ['muskmelon'],\n",
       "       ['coffee'],\n",
       "       ['grapes'],\n",
       "       ['mothbeans'],\n",
       "       ['apple'],\n",
       "       ['coconut'],\n",
       "       ['mothbeans'],\n",
       "       ['orange'],\n",
       "       ['coffee'],\n",
       "       ['jute'],\n",
       "       ['kidneybeans'],\n",
       "       ['cotton'],\n",
       "       ['jute'],\n",
       "       ['rice'],\n",
       "       ['apple'],\n",
       "       ['jute'],\n",
       "       ['muskmelon'],\n",
       "       ['apple'],\n",
       "       ['papaya'],\n",
       "       ['chickpea'],\n",
       "       ['kidneybeans'],\n",
       "       ['pomegranate'],\n",
       "       ['pigeonpeas'],\n",
       "       ['mungbean'],\n",
       "       ['mungbean'],\n",
       "       ['maize'],\n",
       "       ['orange'],\n",
       "       ['coconut'],\n",
       "       ['mungbean'],\n",
       "       ['orange'],\n",
       "       ['maize'],\n",
       "       ['papaya'],\n",
       "       ['apple'],\n",
       "       ['muskmelon'],\n",
       "       ['orange'],\n",
       "       ['rice'],\n",
       "       ['papaya'],\n",
       "       ['maize'],\n",
       "       ['blackgram'],\n",
       "       ['cotton'],\n",
       "       ['grapes'],\n",
       "       ['cotton'],\n",
       "       ['grapes'],\n",
       "       ['coffee'],\n",
       "       ['blackgram'],\n",
       "       ['orange'],\n",
       "       ['coconut'],\n",
       "       ['pigeonpeas'],\n",
       "       ['muskmelon'],\n",
       "       ['maize'],\n",
       "       ['coconut'],\n",
       "       ['papaya'],\n",
       "       ['coconut'],\n",
       "       ['watermelon'],\n",
       "       ['grapes'],\n",
       "       ['chickpea'],\n",
       "       ['grapes'],\n",
       "       ['banana'],\n",
       "       ['banana'],\n",
       "       ['lentil'],\n",
       "       ['pigeonpeas'],\n",
       "       ['blackgram'],\n",
       "       ['jute'],\n",
       "       ['rice'],\n",
       "       ['banana'],\n",
       "       ['mungbean'],\n",
       "       ['orange'],\n",
       "       ['maize'],\n",
       "       ['banana'],\n",
       "       ['mango'],\n",
       "       ['banana'],\n",
       "       ['watermelon'],\n",
       "       ['kidneybeans'],\n",
       "       ['banana'],\n",
       "       ['coffee'],\n",
       "       ['cotton'],\n",
       "       ['cotton'],\n",
       "       ['grapes'],\n",
       "       ['lentil'],\n",
       "       ['apple'],\n",
       "       ['pigeonpeas'],\n",
       "       ['coffee'],\n",
       "       ['blackgram'],\n",
       "       ['pigeonpeas'],\n",
       "       ['maize'],\n",
       "       ['maize'],\n",
       "       ['jute'],\n",
       "       ['apple'],\n",
       "       ['coconut'],\n",
       "       ['lentil'],\n",
       "       ['coffee'],\n",
       "       ['pomegranate'],\n",
       "       ['jute'],\n",
       "       ['apple'],\n",
       "       ['mango'],\n",
       "       ['kidneybeans'],\n",
       "       ['mungbean'],\n",
       "       ['blackgram'],\n",
       "       ['papaya'],\n",
       "       ['apple'],\n",
       "       ['blackgram'],\n",
       "       ['mungbean'],\n",
       "       ['maize'],\n",
       "       ['rice'],\n",
       "       ['orange'],\n",
       "       ['kidneybeans'],\n",
       "       ['pigeonpeas'],\n",
       "       ['orange'],\n",
       "       ['orange'],\n",
       "       ['mango'],\n",
       "       ['pomegranate'],\n",
       "       ['kidneybeans'],\n",
       "       ['coffee'],\n",
       "       ['coffee'],\n",
       "       ['pigeonpeas'],\n",
       "       ['blackgram'],\n",
       "       ['chickpea'],\n",
       "       ['mango'],\n",
       "       ['mango'],\n",
       "       ['chickpea'],\n",
       "       ['mango'],\n",
       "       ['cotton'],\n",
       "       ['mungbean'],\n",
       "       ['grapes'],\n",
       "       ['kidneybeans'],\n",
       "       ['jute'],\n",
       "       ['coconut'],\n",
       "       ['maize'],\n",
       "       ['lentil'],\n",
       "       ['banana'],\n",
       "       ['chickpea'],\n",
       "       ['chickpea'],\n",
       "       ['cotton'],\n",
       "       ['mango'],\n",
       "       ['mungbean'],\n",
       "       ['maize']], dtype=object)"
      ]
     },
     "execution_count": 22,
     "metadata": {},
     "output_type": "execute_result"
    }
   ],
   "source": [
    "answers = model.predict(test.iloc[:,:-1])\n",
    "answers"
   ]
  },
  {
   "cell_type": "code",
   "execution_count": 23,
   "id": "fda0da02",
   "metadata": {},
   "outputs": [
    {
     "data": {
      "text/plain": [
       "0      chickpea\n",
       "1        lentil\n",
       "2      mungbean\n",
       "3      chickpea\n",
       "4      mungbean\n",
       "5        coffee\n",
       "6    pigeonpeas\n",
       "7        orange\n",
       "8      chickpea\n",
       "9        coffee\n",
       "Name: label, dtype: object"
      ]
     },
     "execution_count": 23,
     "metadata": {},
     "output_type": "execute_result"
    }
   ],
   "source": [
    "truth = test.label\n",
    "truth[:10]"
   ]
  },
  {
   "cell_type": "code",
   "execution_count": 24,
   "id": "2f96bd7e",
   "metadata": {},
   "outputs": [
    {
     "name": "stdout",
     "output_type": "stream",
     "text": [
      "Accuracy 0.9924242424242424\n",
      "Recall 0.9924242424242424\n",
      "Precision 0.9924242424242424\n",
      "F1 Score 0.9924242424242424\n"
     ]
    }
   ],
   "source": [
    "print(\"Accuracy\",accuracy_score(answers, truth))\n",
    "print(\"Recall\",recall_score(answers, truth,  average=\"micro\"))\n",
    "print(\"Precision\",precision_score(answers, truth,average=\"micro\"))\n",
    "print(\"F1 Score\",f1_score(answers, truth,average=\"micro\"))"
   ]
  },
  {
   "cell_type": "code",
   "execution_count": 3,
   "id": "e45b36a7",
   "metadata": {},
   "outputs": [],
   "source": [
    "model=pickle.load(open(\"catboost_model.pkl\",\"rb\"))"
   ]
  }
 ],
 "metadata": {
  "kernelspec": {
   "display_name": "base",
   "language": "python",
   "name": "python3"
  },
  "language_info": {
   "codemirror_mode": {
    "name": "ipython",
    "version": 3
   },
   "file_extension": ".py",
   "mimetype": "text/x-python",
   "name": "python",
   "nbconvert_exporter": "python",
   "pygments_lexer": "ipython3",
   "version": "3.9.12"
  },
  "vscode": {
   "interpreter": {
    "hash": "932fc412c2b1b66895fcfe3fc593cd79634f0a895eac5da51aa13a96b43e13a2"
   }
  }
 },
 "nbformat": 4,
 "nbformat_minor": 5
}
